{
 "cells": [
  {
   "cell_type": "code",
   "execution_count": 5,
   "id": "5271f55b-83cb-4499-88f5-448a647825e6",
   "metadata": {},
   "outputs": [],
   "source": [
    "def total(p1,p2,p3,p4,p5):\n",
    "    total_=p1+p2+p3+p4+p5\n",
    "    return(total_)"
   ]
  },
  {
   "cell_type": "code",
   "execution_count": 6,
   "id": "6ec73368-ca50-4969-9e02-83020e440999",
   "metadata": {},
   "outputs": [
    {
     "data": {
      "text/plain": [
       "221"
      ]
     },
     "execution_count": 6,
     "metadata": {},
     "output_type": "execute_result"
    }
   ],
   "source": [
    "total(10,23,45,78,65)"
   ]
  },
  {
   "cell_type": "code",
   "execution_count": 9,
   "id": "055f3277-e853-4577-a935-ae86c4a35fad",
   "metadata": {},
   "outputs": [],
   "source": [
    "# using *args\n",
    "def total(*args):\n",
    "    total_=0\n",
    "    for arg in args:\n",
    "        total_ += arg\n",
    "    return(total_)    "
   ]
  },
  {
   "cell_type": "code",
   "execution_count": 10,
   "id": "90386459-e9b1-45ba-aa4b-afb0149ba601",
   "metadata": {},
   "outputs": [
    {
     "data": {
      "text/plain": [
       "15"
      ]
     },
     "execution_count": 10,
     "metadata": {},
     "output_type": "execute_result"
    }
   ],
   "source": [
    "total(10,5)"
   ]
  },
  {
   "cell_type": "code",
   "execution_count": 14,
   "id": "b9c15d69-e191-4407-a45d-69c40e832bef",
   "metadata": {},
   "outputs": [],
   "source": [
    "def order_summary(*prices,**additionals):\n",
    "    total=0\n",
    "    for price in prices:\n",
    "        total+=price\n",
    "    net_Spend = total-additionals['discount']*total-additionals['cashback']\n",
    "\n",
    "    if total>= 10000:\n",
    "        rewards = 300\n",
    "    elif total>=5000:\n",
    "        rewards = 200\n",
    "    elif total>= 2000:\n",
    "        rewards= 100\n",
    "    else:\n",
    "        rewards = 0\n",
    "\n",
    "    return total, net_Spend, rewards"
   ]
  },
  {
   "cell_type": "code",
   "execution_count": 15,
   "id": "01a5c582-bb82-4e9e-bac8-fb2a907a4d58",
   "metadata": {},
   "outputs": [
    {
     "data": {
      "text/plain": [
       "(60, 47.0, 0)"
      ]
     },
     "execution_count": 15,
     "metadata": {},
     "output_type": "execute_result"
    }
   ],
   "source": [
    "additionals = {'discount':0.05,'cashback':10}\n",
    "order_summary(10,20,30,**additionals)"
   ]
  },
  {
   "cell_type": "code",
   "execution_count": null,
   "id": "a2f46f96-543b-450d-9f62-84e3c4377435",
   "metadata": {},
   "outputs": [],
   "source": []
  }
 ],
 "metadata": {
  "kernelspec": {
   "display_name": "anaconda-2024.02-py310",
   "language": "python",
   "name": "conda-env-anaconda-2024.02-py310-py"
  },
  "language_info": {
   "codemirror_mode": {
    "name": "ipython",
    "version": 3
   },
   "file_extension": ".py",
   "mimetype": "text/x-python",
   "name": "python",
   "nbconvert_exporter": "python",
   "pygments_lexer": "ipython3",
   "version": "3.10.14"
  }
 },
 "nbformat": 4,
 "nbformat_minor": 5
}
